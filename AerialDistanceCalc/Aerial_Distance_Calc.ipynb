{
 "cells": [
  {
   "cell_type": "code",
   "execution_count": null,
   "metadata": {},
   "outputs": [],
   "source": [
    "from geopy.geocoders import Nominatim, ArcGIS\n",
    "from geopy import distance\n",
    "import folium\n",
    "geodecoder = Nominatim(user_agent=\"python\")\n",
    "\n",
    "location1 = input(\"\\nEnter your starting location :  \")\n",
    "location2 = input(\"Enter your Destination :  \")\n",
    "\n",
    "coordinates1 = geodecoder.geocode(location1)\n",
    "coordinates2 = geodecoder.geocode(location2)\n",
    "\n",
    "a = ArcGIS()\n",
    "loca1 = a.geocode(location1)\n",
    "loca1lat = loca1.latitude\n",
    "loca1lon = loca1.longitude\n",
    "loca2 = a.geocode(location2)\n",
    "loca2lat = loca2.latitude\n",
    "loca2lon = loca2.longitude\n",
    "map = folium.Map(location=[loca1lat,loca1lon],zoom_start=4)\n",
    "locationcap1 = location1.capitalize()\n",
    "locationcap2 = location2.capitalize()\n",
    "\n",
    "startingLoc = (loca1lat, loca1lon)\n",
    "destination = (loca2lat, loca2lon)\n",
    "\n",
    "diststr = str(distance.distance(startingLoc,destination)).split(\".\",2)[0]\n",
    "\n",
    "\n",
    "print(f\"Aerial Distance between your location is {diststr} km (approx..)\")\n",
    "map.add_child(folium.Marker(location=[loca2lat,loca2lon],popup=locationcap2,icon=folium.Icon(color=\"red\")))\n",
    "map.add_child(folium.Marker(location=[loca1lat,loca1lon],popup=locationcap1,icon=folium.Icon(color=\"red\")))"
   ]
  }
 ],
 "metadata": {
  "interpreter": {
   "hash": "ab3298061894ea8e9f63d33ee7154e99389b529bdefd6424b2d3fed3fb422773"
  },
  "kernelspec": {
   "display_name": "Python 3.9.7 64-bit",
   "language": "python",
   "name": "python3"
  },
  "language_info": {
   "codemirror_mode": {
    "name": "ipython",
    "version": 3
   },
   "file_extension": ".py",
   "mimetype": "text/x-python",
   "name": "python",
   "nbconvert_exporter": "python",
   "pygments_lexer": "ipython3",
   "version": "3.9.7"
  },
  "orig_nbformat": 4
 },
 "nbformat": 4,
 "nbformat_minor": 2
}
